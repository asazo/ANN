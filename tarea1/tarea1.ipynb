{
 "cells": [
  {
   "cell_type": "code",
   "execution_count": 14,
   "metadata": {
    "collapsed": false
   },
   "outputs": [],
   "source": [
    "# Ejercicio 1\n",
    "import numpy as np\n",
    "\n",
    "def generate_data(n):\n",
    "    \n",
    "    # Listas para dividir datos\n",
    "    crosses = list()\n",
    "    circles = list()\n",
    "    \n",
    "    # Generación de n tuplas aleatorias\n",
    "    data = 2 * np.random.random_sample((n,2)) - 1\n",
    "    \n",
    "    # Asignación datos dependiendo del cuadrante\n",
    "    for i in data:\n",
    "        # Cuadrante 1\n",
    "        if i[0] > 0 and i[1] > 0:\n",
    "            circles.append(i)\n",
    "        # Cuadrante 2\n",
    "        elif i[0] < 0 and i[1] > 0: \n",
    "            crosses.append(i)\n",
    "        # Cuadrante 3\n",
    "        elif i[0] < 0 and i[1] < 0: \n",
    "            circles.append(i)\n",
    "        # Cuadrante 4\n",
    "        elif i[0] > 0 and i[1] < 0: \n",
    "            crosses.append(i)\n",
    "    print \"Crosses:\",\n",
    "    print crosses\n",
    "    print \"Circles:\",\n",
    "    print circles"
   ]
  },
  {
   "cell_type": "code",
   "execution_count": 15,
   "metadata": {
    "collapsed": false
   },
   "outputs": [
    {
     "name": "stdout",
     "output_type": "stream",
     "text": [
      "Crosses: [array([ 0.20272805, -0.76065099]), array([ 0.65791344, -0.4170641 ]), array([ 0.18146692, -0.37669399]), array([ 0.54284329, -0.36285671])]\n",
      "Circles: [array([ 0.31733162,  0.80235443]), array([-0.65759886, -0.94194191]), array([ 0.32149227,  0.04111979]), array([ 0.32128785,  0.89016893]), array([ 0.49620108,  0.63251377]), array([ 0.88223017,  0.74553668])]\n"
     ]
    }
   ],
   "source": [
    "generate_data(10)"
   ]
  },
  {
   "cell_type": "code",
   "execution_count": 1,
   "metadata": {
    "collapsed": false
   },
   "outputs": [],
   "source": [
    "# Ejercicio 3\n",
    "import cPickle as pickle\n",
    "import numpy as np\n",
    "import os\n",
    "from scipy.misc import imread\n",
    "\n",
    "np.random.seed(20)\n",
    "\n",
    "# Carga de un archivo de CIFAR\n",
    "def load_CIFAR_one(filename):\n",
    "    with open(filename, 'rb') as f:\n",
    "        datadict = pickle.load(f)\n",
    "        X = datadict['data']\n",
    "        Y = datadict['labels']\n",
    "        Y = np.array(Y)\n",
    "        return X, Y\n",
    "\n",
    "# Carga todos los archivos CIFAR y generar Training set, Testing set y Validation set\n",
    "def load_CIFAR10(PATH, n_files=6):\n",
    "    xs = []\n",
    "    ys = []\n",
    "    for b in range(1, n_files):\n",
    "        f = os.path.join(PATH, 'data_batch_%d' % (b, ))\n",
    "        X, Y = load_CIFAR_one(f)\n",
    "        xs.append(X)\n",
    "        ys.append(Y)\n",
    "    Xtr = np.concatenate(xs)\n",
    "    Ytr = np.concatenate(ys)\n",
    "    del X, Y\n",
    "    # Obtener subconjunto para validacion\n",
    "    v_size = np.random.randint(1000, 5000)\n",
    "    indices = np.random.choice(np.arange(Xtr.shape[0]), v_size)\n",
    "    Xv = Xtr[indices]\n",
    "    Yv = Ytr[indices]\n",
    "    Xte, Yte = load_CIFAR_one(os.path.join(PATH, 'test_batch'))\n",
    "    return Xtr, Ytr, Xte, Yte, Xv, Yv"
   ]
  },
  {
   "cell_type": "code",
   "execution_count": 2,
   "metadata": {
    "collapsed": true
   },
   "outputs": [],
   "source": [
    "# Cargar desde carpeta local data\n",
    "Xtr, Ytr, Xte, Yte, Xv, Yv = load_CIFAR10(\"data\")"
   ]
  },
  {
   "cell_type": "code",
   "execution_count": 13,
   "metadata": {
    "collapsed": false
   },
   "outputs": [
    {
     "name": "stderr",
     "output_type": "stream",
     "text": [
      "/usr/lib64/python2.7/site-packages/sklearn/utils/validation.py:420: DataConversionWarning: Data with input dtype uint8 was converted to float64 by StandardScaler.\n",
      "  warnings.warn(msg, DataConversionWarning)\n",
      "/usr/lib64/python2.7/site-packages/sklearn/utils/validation.py:420: DataConversionWarning: Data with input dtype uint8 was converted to float64 by StandardScaler.\n",
      "  warnings.warn(msg, DataConversionWarning)\n"
     ]
    }
   ],
   "source": [
    "from sklearn.preprocessing import StandardScaler\n",
    "\n",
    "# Centrar dataset y escalar segun preferencia\n",
    "def preprocess(X, with_mean=True, with_std=True):\n",
    "    scaler = StandardScaler(with_mean, with_std).fit(X)\n",
    "    return scaler.transform(X)\n",
    "\n",
    "# Data solo centrada\n",
    "#Xtr_c = preprocess(Xtr, with_mean=True, with_std=False)\n",
    "# Data solo escalada\n",
    "#Xtr_s = preprocess(Xtr, with_mean=False, with_std=True)\n",
    "# Data centrada y escalada\n",
    "Xtr_cs = preprocess(Xtr)"
   ]
  },
  {
   "cell_type": "code",
   "execution_count": null,
   "metadata": {
    "collapsed": true
   },
   "outputs": [],
   "source": []
  }
 ],
 "metadata": {
  "kernelspec": {
   "display_name": "Python 2",
   "language": "python",
   "name": "python2"
  },
  "language_info": {
   "codemirror_mode": {
    "name": "ipython",
    "version": 2
   },
   "file_extension": ".py",
   "mimetype": "text/x-python",
   "name": "python",
   "nbconvert_exporter": "python",
   "pygments_lexer": "ipython2",
   "version": "2.7.11"
  }
 },
 "nbformat": 4,
 "nbformat_minor": 0
}
