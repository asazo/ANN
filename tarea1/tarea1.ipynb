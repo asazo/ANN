{
 "cells": [
  {
   "cell_type": "markdown",
   "metadata": {},
   "source": [
    "# Tarea 1 Redes Neuronales Artificiales"
   ]
  },
  {
   "cell_type": "markdown",
   "metadata": {},
   "source": [
    "Andrea Figueroa, \n",
    "Alejandro Sazo"
   ]
  },
  {
   "cell_type": "markdown",
   "metadata": {},
   "source": [
    "## Ejercicio 1"
   ]
  },
  {
   "cell_type": "markdown",
   "metadata": {},
   "source": [
    "(a) Generación de data aleatoria que represente la función lógica $xor$. Se generan 1000 datos de prueba y 1000 de entrenamiento."
   ]
  },
  {
   "cell_type": "code",
   "execution_count": 2,
   "metadata": {
    "collapsed": false
   },
   "outputs": [],
   "source": [
    "# Importar Librerías\n",
    "import numpy as np\n",
    "import matplotlib.pyplot as plt\n",
    "from keras.models import Sequential\n",
    "from keras.layers.core import Dense, Dropout, Activation\n",
    "from keras.optimizers import SGD"
   ]
  },
  {
   "cell_type": "code",
   "execution_count": 3,
   "metadata": {
    "collapsed": false
   },
   "outputs": [
    {
     "data": {
      "image/png": "[encoded data removed]",
      "text/plain": [
       "<matplotlib.figure.Figure at 0x7f91ffdc5250>"
      ]
     },
     "metadata": {},
     "output_type": "display_data"
    }
   ],
   "source": [
    "# Guardar semilla para numeros aleatorios\n",
    "seed = 21\n",
    "np.random.seed(seed)\n",
    "\n",
    "def generate_data(n):\n",
    "    \n",
    "    # Lista para guardar datos etiquetados\n",
    "    output = list()\n",
    "    \n",
    "    # Generación de n tuplas aleatorias\n",
    "    input = 2 * np.random.random_sample((n,2)) - 1\n",
    "    # Asignación datos dependiendo del cuadrante\n",
    "    for i in input:\n",
    "        # Cuadrante 1\n",
    "        if i[0] > 0 and i[1] > 0:\n",
    "            output.append(0)\n",
    "        # Cuadrante 2\n",
    "        elif i[0] < 0 and i[1] > 0: \n",
    "            output.append(1)\n",
    "        # Cuadrante 3\n",
    "        elif i[0] < 0 and i[1] < 0: \n",
    "            output.append(0)\n",
    "        # Cuadrante 4\n",
    "        elif i[0] > 0 and i[1] < 0: \n",
    "            output.append(1)\n",
    "    return input, output\n",
    "\n",
    "(x_training, y_training) = generate_data(1000)\n",
    "(x_test, y_test) = generate_data(1000)\n",
    "\n",
    "# Plot de datos de entrenamiento\n",
    "%matplotlib inline\n",
    "plt.figure(figsize=(7,7))\n",
    "set1 = x_training[np.logical_and(x_training[:,0] < 0, x_training[:,1] < 0)]\n",
    "set2 = x_training[np.logical_and(x_training[:,0] < 0, x_training[:,1] > 0)]\n",
    "set3 = x_training[np.logical_and(x_training[:,0] > 0, x_training[:,1] > 0)]\n",
    "set4 = x_training[np.logical_and(x_training[:,0] > 0, x_training[:,1] < 0)]\n",
    "set1 = np.concatenate((set1, set3), axis=0)\n",
    "set2 = np.concatenate((set2, set4), axis=0)\n",
    "plt.plot(set1[:,0], set1[:,1], 'r.')\n",
    "plt.plot(set2[:,0], set2[:,1], 'bx')\n",
    "plt.show()"
   ]
  },
  {
   "cell_type": "markdown",
   "metadata": {},
   "source": [
    "(b) Generación de una neurona. Ha sido entrenada con 1000 epochs."
   ]
  },
  {
   "cell_type": "code",
   "execution_count": 55,
   "metadata": {
    "collapsed": false
   },
   "outputs": [
    {
     "name": "stdout",
     "output_type": "stream",
     "text": [
      "Neurona inicializada\n",
      "Neurona entrenada\n",
      "1000/1000 [==============================] - 0s\n",
      "Loss: \n",
      "0.24980071187\n",
      "Accuracy: \n",
      "51.4999985695\n"
     ]
    }
   ],
   "source": [
    "# Creación de una neurona\n",
    "model = Sequential()\n",
    "\n",
    "# Dimensión input = 1, Dimensión output = 2, función de activación es Relu\n",
    "model.add(Dense(output_dim=1, input_dim=2, init=\"normal\"))\n",
    "model.add(Activation(\"sigmoid\"))\n",
    "model.compile(loss='mean_squared_error', optimizer='sgd', metrics=['accuracy'])\n",
    "\n",
    "print \"Neurona inicializada\"\n",
    "\n",
    "# Entrenar a la neurona\n",
    "model.fit(x_training, y_training, nb_epoch=1000,verbose=0)\n",
    "\n",
    "print \"Neurona entrenada\"\n",
    "\n",
    "# Evaluar la neurona\n",
    "loss_and_metrics = model.evaluate(x_test, y_test, batch_size=1000)\n",
    "print \"Loss: \" \n",
    "print loss_and_metrics[0]\n",
    "print \"Accuracy: \"\n",
    "print loss_and_metrics[1]*100"
   ]
  },
  {
   "cell_type": "code",
   "execution_count": 4,
   "metadata": {
    "collapsed": false
   },
   "outputs": [
    {
     "name": "stdout",
     "output_type": "stream",
     "text": [
      "0.467\n",
      "0.4841\n",
      "0.4714\n",
      "0.4796\n"
     ]
    }
   ],
   "source": [
    "print round(model.predict(np.array([-1,-1]).reshape(1,2))[0][0],4)\n",
    "print round(model.predict(np.array([1,1]).reshape(1,2))[0][0],4)\n",
    "print round(model.predict(np.array([-1,1]).reshape(1,2))[0][0],4)\n",
    "print round(model.predict(np.array([1,-1]).reshape(1,2))[0][0],4)"
   ]
  },
  {
   "cell_type": "markdown",
   "metadata": {},
   "source": [
    "Como se puede apreciar, la neurona a pesar de la cantidad de datos de entrenamiento utilizados, no es capaz de aprender la función XOR arrojando resultados inconsistentes, siendo incapaz de clasificar de forma determinante los ejemplos de testing en alguna clase."
   ]
  },
  {
   "cell_type": "markdown",
   "metadata": {},
   "source": [
    "(c) Una arquitectura de perceptron multicapa con 8 neuronas en su capa oculta permite aprender XOR de forma efectiva."
   ]
  },
  {
   "cell_type": "code",
   "execution_count": 54,
   "metadata": {
    "collapsed": false
   },
   "outputs": [
    {
     "name": "stdout",
     "output_type": "stream",
     "text": [
      "Red inicializada\n",
      "Red entrenada\n",
      "1000/1000 [==============================] - 0s\n",
      "Loss: \n",
      "0.0365891009569\n",
      "Accuracy: \n",
      "98.6000001431\n"
     ]
    }
   ],
   "source": [
    "from keras.models import Sequential\n",
    "from keras.layers.core import Dense, Activation\n",
    "\n",
    "xor = Sequential()\n",
    "# Dimensión input = 2, Dimensión output = 1, función de activación es Relu\n",
    "xor.add(Dense(8, input_dim = 2, activation = \"relu\"))\n",
    "xor.add(Dense(1, activation = \"sigmoid\"))\n",
    "xor.compile(loss='mean_squared_error', optimizer='sgd', metrics=['accuracy'])\n",
    "\n",
    "print \"Red inicializada\"\n",
    "\n",
    "# Entrenar a la neurona\n",
    "xor.fit(x_training, y_training, nb_epoch=1000, verbose=0)\n",
    "\n",
    "print \"Red entrenada\"\n",
    "\n",
    "# Evaluar la neurona\n",
    "evaluacion = xor.evaluate(x_test, y_test, batch_size=1000)\n",
    "print \"Loss: \" \n",
    "print evaluacion[0]\n",
    "print \"Accuracy: \"\n",
    "print evaluacion[1]*100"
   ]
  },
  {
   "cell_type": "code",
   "execution_count": 12,
   "metadata": {
    "collapsed": false
   },
   "outputs": [
    {
     "name": "stdout",
     "output_type": "stream",
     "text": [
      "1/1 [==============================] - 0s\n",
      "0\n",
      "1/1 [==============================] - 0s\n",
      "0\n",
      "1/1 [==============================] - 0s\n",
      "1\n",
      "1/1 [==============================] - 0s\n",
      "1\n"
     ]
    }
   ],
   "source": [
    "print xor.predict_classes(np.array([-1,-1]).reshape(1,2))[0][0]\n",
    "print xor.predict_classes(np.array([1,1]).reshape(1,2))[0][0]\n",
    "print xor.predict_classes(np.array([-1,1]).reshape(1,2))[0][0]\n",
    "print xor.predict_classes(np.array([1,-1]).reshape(1,2))[0][0]"
   ]
  },
  {
   "cell_type": "markdown",
   "metadata": {},
   "source": [
    "## Ejercicio 2"
   ]
  },
  {
   "cell_type": "markdown",
   "metadata": {},
   "source": [
    "(a) Construcción del dataframe para el set Boston Housing. Este set se divide para generar el training set y el testing set. Del total de datos, el 25% se deja aparte para pruebas y el restante 75% permanece para entrenamiento."
   ]
  },
  {
   "cell_type": "code",
   "execution_count": 14,
   "metadata": {
    "collapsed": false
   },
   "outputs": [],
   "source": [
    "import pandas as pd\n",
    "url = 'http://mldata.org/repository/data/download/csv/regression-datasets-housing/'\n",
    "df = pd.read_csv(url, sep=',',header=None, names=['CRIM', 'ZN', 'INDUS', 'CHAS', 'NOX',\n",
    "'RM', 'AGE','DIS','RAD','TAX','PTRATIO','B','LSTAT','MEDV'])\n",
    "from sklearn.cross_validation import train_test_split\n",
    "df_train, df_test = train_test_split(df,test_size=0.25, random_state=0)"
   ]
  },
  {
   "cell_type": "markdown",
   "metadata": {},
   "source": [
    "(b) Descripción del dataset."
   ]
  },
  {
   "cell_type": "code",
   "execution_count": 15,
   "metadata": {
    "collapsed": false
   },
   "outputs": [
    {
     "name": "stdout",
     "output_type": "stream",
     "text": [
      "<class 'pandas.core.frame.DataFrame'>\n",
      "Int64Index: 506 entries, 0 to 505\n",
      "Data columns (total 14 columns):\n",
      "CRIM       506 non-null float64\n",
      "ZN         506 non-null int64\n",
      "INDUS      506 non-null float64\n",
      "CHAS       506 non-null int64\n",
      "NOX        506 non-null float64\n",
      "RM         506 non-null float64\n",
      "AGE        506 non-null float64\n",
      "DIS        506 non-null float64\n",
      "RAD        506 non-null int64\n",
      "TAX        506 non-null int64\n",
      "PTRATIO    506 non-null int64\n",
      "B          506 non-null float64\n",
      "LSTAT      506 non-null float64\n",
      "MEDV       506 non-null float64\n",
      "dtypes: float64(9), int64(5)\n",
      "memory usage: 59.3 KB\n"
     ]
    },
    {
     "data": {
      "text/html": [
       "<div>\n",
       "<table border=\"1\" class=\"dataframe\">\n",
       "  <thead>\n",
       "    <tr style=\"text-align: right;\">\n",
       "      <th></th>\n",
       "      <th>CRIM</th>\n",
       "      <th>ZN</th>\n",
       "      <th>INDUS</th>\n",
       "      <th>CHAS</th>\n",
       "      <th>NOX</th>\n",
       "      <th>RM</th>\n",
       "      <th>AGE</th>\n",
       "      <th>DIS</th>\n",
       "      <th>RAD</th>\n",
       "      <th>TAX</th>\n",
       "      <th>PTRATIO</th>\n",
       "      <th>B</th>\n",
       "      <th>LSTAT</th>\n",
       "      <th>MEDV</th>\n",
       "    </tr>\n",
       "  </thead>\n",
       "  <tbody>\n",
       "    <tr>\n",
       "      <th>count</th>\n",
       "      <td>506.000000</td>\n",
       "      <td>506.000000</td>\n",
       "      <td>506.000000</td>\n",
       "      <td>506.000000</td>\n",
       "      <td>506.000000</td>\n",
       "      <td>506.000000</td>\n",
       "      <td>506.000000</td>\n",
       "      <td>506.000000</td>\n",
       "      <td>506.000000</td>\n",
       "      <td>506.000000</td>\n",
       "      <td>506.000000</td>\n",
       "      <td>506.000000</td>\n",
       "      <td>506.000000</td>\n",
       "      <td>506.000000</td>\n",
       "    </tr>\n",
       "    <tr>\n",
       "      <th>mean</th>\n",
       "      <td>3.613524</td>\n",
       "      <td>11.347826</td>\n",
       "      <td>11.136779</td>\n",
       "      <td>0.069170</td>\n",
       "      <td>0.554695</td>\n",
       "      <td>6.284634</td>\n",
       "      <td>68.574901</td>\n",
       "      <td>3.795043</td>\n",
       "      <td>9.549407</td>\n",
       "      <td>408.237154</td>\n",
       "      <td>18.083004</td>\n",
       "      <td>356.674032</td>\n",
       "      <td>12.653063</td>\n",
       "      <td>22.532806</td>\n",
       "    </tr>\n",
       "    <tr>\n",
       "      <th>std</th>\n",
       "      <td>8.601545</td>\n",
       "      <td>23.310593</td>\n",
       "      <td>6.860353</td>\n",
       "      <td>0.253994</td>\n",
       "      <td>0.115878</td>\n",
       "      <td>0.702617</td>\n",
       "      <td>28.148861</td>\n",
       "      <td>2.105710</td>\n",
       "      <td>8.707259</td>\n",
       "      <td>168.537116</td>\n",
       "      <td>2.280574</td>\n",
       "      <td>91.294864</td>\n",
       "      <td>7.141062</td>\n",
       "      <td>9.197104</td>\n",
       "    </tr>\n",
       "    <tr>\n",
       "      <th>min</th>\n",
       "      <td>0.006320</td>\n",
       "      <td>0.000000</td>\n",
       "      <td>0.460000</td>\n",
       "      <td>0.000000</td>\n",
       "      <td>0.385000</td>\n",
       "      <td>3.561000</td>\n",
       "      <td>2.900000</td>\n",
       "      <td>1.129600</td>\n",
       "      <td>1.000000</td>\n",
       "      <td>187.000000</td>\n",
       "      <td>12.000000</td>\n",
       "      <td>0.320000</td>\n",
       "      <td>1.730000</td>\n",
       "      <td>5.000000</td>\n",
       "    </tr>\n",
       "    <tr>\n",
       "      <th>25%</th>\n",
       "      <td>0.082045</td>\n",
       "      <td>0.000000</td>\n",
       "      <td>5.190000</td>\n",
       "      <td>0.000000</td>\n",
       "      <td>0.449000</td>\n",
       "      <td>5.885500</td>\n",
       "      <td>45.025000</td>\n",
       "      <td>2.100175</td>\n",
       "      <td>4.000000</td>\n",
       "      <td>279.000000</td>\n",
       "      <td>17.000000</td>\n",
       "      <td>375.377500</td>\n",
       "      <td>6.950000</td>\n",
       "      <td>17.025000</td>\n",
       "    </tr>\n",
       "    <tr>\n",
       "      <th>50%</th>\n",
       "      <td>0.256510</td>\n",
       "      <td>0.000000</td>\n",
       "      <td>9.690000</td>\n",
       "      <td>0.000000</td>\n",
       "      <td>0.538000</td>\n",
       "      <td>6.208500</td>\n",
       "      <td>77.500000</td>\n",
       "      <td>3.207450</td>\n",
       "      <td>5.000000</td>\n",
       "      <td>330.000000</td>\n",
       "      <td>19.000000</td>\n",
       "      <td>391.440000</td>\n",
       "      <td>11.360000</td>\n",
       "      <td>21.200000</td>\n",
       "    </tr>\n",
       "    <tr>\n",
       "      <th>75%</th>\n",
       "      <td>3.677082</td>\n",
       "      <td>12.000000</td>\n",
       "      <td>18.100000</td>\n",
       "      <td>0.000000</td>\n",
       "      <td>0.624000</td>\n",
       "      <td>6.623500</td>\n",
       "      <td>94.075000</td>\n",
       "      <td>5.188425</td>\n",
       "      <td>24.000000</td>\n",
       "      <td>666.000000</td>\n",
       "      <td>20.000000</td>\n",
       "      <td>396.225000</td>\n",
       "      <td>16.955000</td>\n",
       "      <td>25.000000</td>\n",
       "    </tr>\n",
       "    <tr>\n",
       "      <th>max</th>\n",
       "      <td>88.976200</td>\n",
       "      <td>100.000000</td>\n",
       "      <td>27.740000</td>\n",
       "      <td>1.000000</td>\n",
       "      <td>0.871000</td>\n",
       "      <td>8.780000</td>\n",
       "      <td>100.000000</td>\n",
       "      <td>12.126500</td>\n",
       "      <td>24.000000</td>\n",
       "      <td>711.000000</td>\n",
       "      <td>22.000000</td>\n",
       "      <td>396.900000</td>\n",
       "      <td>37.970000</td>\n",
       "      <td>50.000000</td>\n",
       "    </tr>\n",
       "  </tbody>\n",
       "</table>\n",
       "</div>"
      ],
      "text/plain": [
       "             CRIM          ZN       INDUS        CHAS         NOX          RM  \\\n",
       "count  506.000000  506.000000  506.000000  506.000000  506.000000  506.000000   \n",
       "mean     3.613524   11.347826   11.136779    0.069170    0.554695    6.284634   \n",
       "std      8.601545   23.310593    6.860353    0.253994    0.115878    0.702617   \n",
       "min      0.006320    0.000000    0.460000    0.000000    0.385000    3.561000   \n",
       "25%      0.082045    0.000000    5.190000    0.000000    0.449000    5.885500   \n",
       "50%      0.256510    0.000000    9.690000    0.000000    0.538000    6.208500   \n",
       "75%      3.677082   12.000000   18.100000    0.000000    0.624000    6.623500   \n",
       "max     88.976200  100.000000   27.740000    1.000000    0.871000    8.780000   \n",
       "\n",
       "              AGE         DIS         RAD         TAX     PTRATIO           B  \\\n",
       "count  506.000000  506.000000  506.000000  506.000000  506.000000  506.000000   \n",
       "mean    68.574901    3.795043    9.549407  408.237154   18.083004  356.674032   \n",
       "std     28.148861    2.105710    8.707259  168.537116    2.280574   91.294864   \n",
       "min      2.900000    1.129600    1.000000  187.000000   12.000000    0.320000   \n",
       "25%     45.025000    2.100175    4.000000  279.000000   17.000000  375.377500   \n",
       "50%     77.500000    3.207450    5.000000  330.000000   19.000000  391.440000   \n",
       "75%     94.075000    5.188425   24.000000  666.000000   20.000000  396.225000   \n",
       "max    100.000000   12.126500   24.000000  711.000000   22.000000  396.900000   \n",
       "\n",
       "            LSTAT        MEDV  \n",
       "count  506.000000  506.000000  \n",
       "mean    12.653063   22.532806  \n",
       "std      7.141062    9.197104  \n",
       "min      1.730000    5.000000  \n",
       "25%      6.950000   17.025000  \n",
       "50%     11.360000   21.200000  \n",
       "75%     16.955000   25.000000  \n",
       "max     37.970000   50.000000  "
      ]
     },
     "execution_count": 15,
     "metadata": {},
     "output_type": "execute_result"
    }
   ],
   "source": [
    "df.shape\n",
    "df.info()\n",
    "df.describe()"
   ]
  },
  {
   "cell_type": "markdown",
   "metadata": {},
   "source": [
    "c) Normalización de datos. Este procedimiento es necesario para evitar cualquier clase de problemas con la convergencia de nuestra función de optimización, pues es posible que debido a los diversos rangos de datos la convergencia favorezca a ciertos valores, deteniéndose el algoritmo en un punto donde se ha aprendido mal sobre el training set y no se tenga capacidad de generalización."
   ]
  },
  {
   "cell_type": "code",
   "execution_count": 16,
   "metadata": {
    "collapsed": false
   },
   "outputs": [],
   "source": [
    "from sklearn.preprocessing import StandardScaler\n",
    "scaler = StandardScaler().fit(df_train)\n",
    "X_train_scaled = pd.DataFrame(scaler.transform(df_train),columns=df_train.columns)\n",
    "X_test_scaled = pd.DataFrame(scaler.transform(df_test),columns=df_test.columns)\n",
    "y_train_scaled = X_train_scaled.pop('MEDV')\n",
    "y_test_scaled = X_test_scaled.pop('MEDV')"
   ]
  },
  {
   "cell_type": "markdown",
   "metadata": {},
   "source": [
    "d) Gráfico de MSE versus número de epochs utilizados para entrenar para red FF de 3 capas, 200 unidades ocultas y activación sigmoidal entrenada con SGD con parámetros $\\eta$=0.2 y 300 epochs de entrenamiento."
   ]
  },
  {
   "cell_type": "code",
   "execution_count": 20,
   "metadata": {
    "collapsed": false
   },
   "outputs": [
    {
     "data": {
      "image/png": "[encoded data removed]",
      "text/plain": [
       "<matplotlib.figure.Figure at 0x7f91dfd66e10>"
      ]
     },
     "metadata": {},
     "output_type": "display_data"
    }
   ],
   "source": [
    "def generate_model(optimizer, activation):\n",
    "    model = Sequential()\n",
    "    model.add(Dense(200, input_dim=X_train_scaled.shape[1], init='uniform'))\n",
    "    model.add(Activation(activation))\n",
    "    model.add(Dense(1, init='uniform'))\n",
    "    model.add(Activation('linear'))\n",
    "\n",
    "    model.compile(optimizer=optimizer,loss='mean_squared_error')\n",
    "    \n",
    "    return model\n",
    "\n",
    "sgd = SGD(lr=0.02)\n",
    "model_d = generate_model(sgd,\"sigmoid\") \n",
    "\n",
    "hist = model_d.fit(X_train_scaled.as_matrix(), y_train_scaled.as_matrix(), \n",
    "     nb_epoch=300, verbose=0, \n",
    "     validation_data=(X_test_scaled.as_matrix(), y_test_scaled.as_matrix()))\n",
    "    \n",
    "\n",
    "%matplotlib inline\n",
    "epochs = np.arange(300)\n",
    "plt.figure(figsize=(6,6))\n",
    "plt.plot(epochs, hist.history['loss'], 'b-')\n",
    "plt.title(u\"Función de activación sigmoidal\")\n",
    "plt.xlabel(\"# epochs\")\n",
    "plt.ylabel(\"MSE\")\n",
    "plt.show()"
   ]
  },
  {
   "cell_type": "markdown",
   "metadata": {},
   "source": [
    "e) Variar función de activación cambiandola por ReLu."
   ]
  },
  {
   "cell_type": "code",
   "execution_count": 21,
   "metadata": {
    "collapsed": false
   },
   "outputs": [
    {
     "data": {
      "image/png": "[encoded data removed]",
      "text/plain": [
       "<matplotlib.figure.Figure at 0x7f91df9c38d0>"
      ]
     },
     "metadata": {},
     "output_type": "display_data"
    }
   ],
   "source": [
    "sgd = SGD(lr=0.02)\n",
    "model2 = generate_model(sgd, \"relu\")\n",
    "\n",
    "hist2 = model2.fit(X_train_scaled.as_matrix(), y_train_scaled.as_matrix(), \n",
    "                   nb_epoch=300, verbose=0, \n",
    "                   validation_data=(X_test_scaled.as_matrix(), y_test_scaled.as_matrix()))\n",
    "\n",
    "%matplotlib inline\n",
    "epochs = np.arange(300)\n",
    "plt.plot(epochs, hist2.history['loss'], 'r-')\n",
    "plt.title(u\"Función de activación ReLu\")\n",
    "plt.xlabel(\"# epochs\")\n",
    "plt.ylabel(\"MSE\")\n",
    "plt.show()"
   ]
  },
  {
   "cell_type": "markdown",
   "metadata": {},
   "source": [
    "f) Variar learning rate"
   ]
  },
  {
   "cell_type": "code",
   "execution_count": 41,
   "metadata": {
    "collapsed": false
   },
   "outputs": [
    {
     "data": {
      "image/png": "[encoded data removed]",
      "text/plain": [
       "<matplotlib.figure.Figure at 0x7f91e000b990>"
      ]
     },
     "metadata": {},
     "output_type": "display_data"
    }
   ],
   "source": [
    "n_lr = 20\n",
    "lear_rate = np.linspace(0,0.02,n_lr)\n",
    "\n",
    "%matplotlib inline\n",
    "epochs = np.arange(300)\n",
    "colors = ['r', 'g', 'b', 'y', 'c', 'm']\n",
    "for n, i in enumerate(lear_rate):\n",
    "    sgd = SGD(lr=i)\n",
    "    model = generate_model(sgd, \"sigmoid\")\n",
    "    \n",
    "    hist = model.fit(X_train_scaled.as_matrix(), y_train_scaled.as_matrix(), \n",
    "                   nb_epoch=300, verbose=0, \n",
    "                   validation_data=(X_test_scaled.as_matrix(), y_test_scaled.as_matrix()))\n",
    "    plt.plot(epochs, hist.history['loss'], color=colors[n % len(colors)])\n",
    "    \n",
    "plt.title(u\"Variación de learning rate con activación Sigmoid\")\n",
    "plt.xlabel(\"# epochs\")\n",
    "plt.ylabel(\"MSE\")\n",
    "plt.show()"
   ]
  },
  {
   "cell_type": "markdown",
   "metadata": {},
   "source": [
    "g) Validación cruzada variando el número de folds"
   ]
  },
  {
   "cell_type": "code",
   "execution_count": 45,
   "metadata": {
    "collapsed": false
   },
   "outputs": [
    {
     "name": "stdout",
     "output_type": "stream",
     "text": [
      "32/37 [========================>.....] - ETA: 0sResults for sigmoid and CV\n",
      "[0.36416774598339147, 0.28536170629379076]\n",
      "Results for relu and CV\n",
      "[0.1312290781088043, 0.13420869662197224]\n"
     ]
    }
   ],
   "source": [
    "from sklearn import cross_validation\n",
    "\n",
    "Xm = X_train_scaled.as_matrix()\n",
    "ym = y_train_scaled.as_matrix()\n",
    "mse_cvs1 = []\n",
    "mse_cvs2 = []\n",
    "for nfold in [5, 10]:\n",
    "    kfold = cross_validation.KFold(len(Xm), nfold)\n",
    "    cvscores1 = []\n",
    "    cvscores2 = []\n",
    "    for i, (train, val) in enumerate(kfold):\n",
    "        # create models\n",
    "        sgd = SGD(lr=0.02)\n",
    "        model1 = generate_model(sgd, 'sigmoid')\n",
    "        model2 = generate_model(sgd, 'relu')\n",
    "        # Fit the models\n",
    "        model1.fit(Xm[train], ym[train], nb_epoch=300, verbose=0)\n",
    "        model2.fit(Xm[train], ym[train], nb_epoch=300, verbose=0)\n",
    "        # evaluate the models\n",
    "        # sigmoid score\n",
    "        scores1 = model1.evaluate(Xm[val], ym[val])\n",
    "        # relu score\n",
    "        scores2 = model2.evaluate(Xm[val], ym[val])\n",
    "        # Store values\n",
    "        cvscores1.append(scores1)\n",
    "        cvscores2.append(scores2)\n",
    "    mse_cvs1.append(np.mean(cvscores1))\n",
    "    mse_cvs2.append(np.mean(cvscores2))\n",
    "\n",
    "print \"Results for sigmoid and CV\"\n",
    "print mse_cvs1\n",
    "print \"Results for relu and CV\"\n",
    "print mse_cvs2"
   ]
  },
  {
   "cell_type": "markdown",
   "metadata": {},
   "source": [
    "h) Entrenar el modelo en d) usando progressive decay"
   ]
  },
  {
   "cell_type": "code",
   "execution_count": 37,
   "metadata": {
    "collapsed": false,
    "scrolled": true
   },
   "outputs": [
    {
     "data": {
      "image/png": "[encoded data removed]",
      "text/plain": [
       "<matplotlib.figure.Figure at 0x7f7174567b90>"
      ]
     },
     "metadata": {},
     "output_type": "display_data"
    }
   ],
   "source": [
    "n_decay = 10\n",
    "lear_decay = np.logspace(-6,0,n_decay)\n",
    "\n",
    "%matplotlib inline\n",
    "epochs = np.arange(300)\n",
    "\n",
    "for i in lear_decay:\n",
    "    sgd = SGD(lr=0.02, decay=i)\n",
    "    model = generate_model(sgd, \"sigmoid\")\n",
    "    \n",
    "    hist = model.fit(X_train_scaled.as_matrix(), y_train_scaled.as_matrix(), \n",
    "                   nb_epoch=300, verbose=0, \n",
    "                   validation_data=(X_test_scaled.as_matrix(), y_test_scaled.as_matrix()))\n",
    "    plt.plot(epochs, hist.history['loss'], 'r-')\n",
    "    \n",
    "plt.title(u\"Variación de learning decay\")\n",
    "plt.xlabel(\"# epochs\")\n",
    "plt.ylabel(\"MSE\")\n",
    "plt.show()"
   ]
  },
  {
   "cell_type": "markdown",
   "metadata": {},
   "source": [
    "i) Entrenar el modelo en d) usando momentum"
   ]
  },
  {
   "cell_type": "code",
   "execution_count": 38,
   "metadata": {
    "collapsed": false
   },
   "outputs": [
    {
     "data": {
      "image/png": "[encoded data removed]",
      "text/plain": [
       "<matplotlib.figure.Figure at 0x7f7161cf81d0>"
      ]
     },
     "metadata": {},
     "output_type": "display_data"
    }
   ],
   "source": [
    "n_decay = 21\n",
    "momentum = np.linspace(0,1,n_decay)\n",
    "\n",
    "%matplotlib inline\n",
    "epochs = np.arange(300)\n",
    "\n",
    "for i in momentum:\n",
    "    sgd = SGD(lr=0.02,momentum=i)\n",
    "    model = generate_model(sgd, \"sigmoid\")\n",
    "    \n",
    "    hist = model.fit(X_train_scaled.as_matrix(), y_train_scaled.as_matrix(), \n",
    "                   nb_epoch=300, verbose=0, \n",
    "                   validation_data=(X_test_scaled.as_matrix(), y_test_scaled.as_matrix()))\n",
    "    plt.plot(epochs, hist.history['loss'], 'r-')\n",
    "    \n",
    "plt.title(u\"Variación de momentum\")\n",
    "plt.xlabel(\"# epochs\")\n",
    "plt.ylabel(\"MSE\")\n",
    "plt.show()\n",
    "# Ver que se muestre más bonito xD"
   ]
  },
  {
   "cell_type": "markdown",
   "metadata": {},
   "source": [
    "j) Entrenar el modelo en d) y e) cambiando el tamaño del batch. Comparar sgd, batch y mini-batch"
   ]
  },
  {
   "cell_type": "code",
   "execution_count": 47,
   "metadata": {
    "collapsed": false
   },
   "outputs": [
    {
     "data": {
      "image/png": "[encoded data removed]",
      "text/plain": [
       "<matplotlib.figure.Figure at 0x7f91de000750>"
      ]
     },
     "metadata": {},
     "output_type": "display_data"
    },
    {
     "data": {
      "image/png": "[encoded data removed]",
      "text/plain": [
       "<matplotlib.figure.Figure at 0x7f91de5e5850>"
      ]
     },
     "metadata": {},
     "output_type": "display_data"
    }
   ],
   "source": [
    "n_batches = 21\n",
    "batch_sizes = np.round(np.linspace(1,X_train_scaled.shape[0],n_batches))\n",
    "\n",
    "%matplotlib inline\n",
    "epochs = np.arange(300)\n",
    "\n",
    "\n",
    "for i in batch_sizes:\n",
    "    sgd = SGD(lr=0.02)\n",
    "    model = generate_model(sgd, \"sigmoid\")\n",
    "    \n",
    "    hist = model.fit(X_train_scaled.as_matrix(), y_train_scaled.as_matrix(), \n",
    "                   batch_size=i, nb_epoch=300, verbose=0, \n",
    "                   validation_data=(X_test_scaled.as_matrix(), y_test_scaled.as_matrix()))\n",
    "    if i == 1:\n",
    "        plt.plot(epochs, hist.history['loss'], 'r-')\n",
    "    elif i == X_train_scaled.shape[0]:\n",
    "        plt.plot(epochs, hist.history['loss'], 'b-')\n",
    "    else:\n",
    "        plt.plot(epochs, hist.history['loss'], 'g-')\n",
    "    \n",
    "plt.title(u\"Variación de batch sizes en d)\")\n",
    "plt.xlabel(\"# epochs\")\n",
    "plt.ylabel(\"MSE\")\n",
    "plt.show()\n",
    "\n",
    "\n",
    "%matplotlib inline\n",
    "epochs = np.arange(300)\n",
    "\n",
    "for i in batch_sizes:\n",
    "    sgd = SGD(lr=0.02)\n",
    "    model = generate_model(sgd, \"relu\")\n",
    "    \n",
    "    hist = model.fit(X_train_scaled.as_matrix(), y_train_scaled.as_matrix(), \n",
    "                   batch_size=i, nb_epoch=300, verbose=0, \n",
    "                   validation_data=(X_test_scaled.as_matrix(), y_test_scaled.as_matrix()))\n",
    "    if i == 1:\n",
    "        plt.plot(epochs, hist.history['loss'], 'r-')\n",
    "    elif i == X_train_scaled.shape[0]:\n",
    "        plt.plot(epochs, hist.history['loss'], 'b-')\n",
    "    else:\n",
    "        plt.plot(epochs, hist.history['loss'], 'g-')\n",
    "    \n",
    "plt.title(u\"Variación de batch sizes en e)\")\n",
    "plt.xlabel(\"# epochs\")\n",
    "plt.ylabel(\"MSE\")\n",
    "plt.show()"
   ]
  },
  {
   "cell_type": "markdown",
   "metadata": {},
   "source": [
    "## Ejercicio 3"
   ]
  },
  {
   "cell_type": "markdown",
   "metadata": {},
   "source": [
    "a) La función $\\texttt{load_CIFAR10}$ permite generar el training set, testing set y validation set a partir de los datos de CIFAR-"
   ]
  },
  {
   "cell_type": "code",
   "execution_count": 29,
   "metadata": {
    "collapsed": false
   },
   "outputs": [],
   "source": [
    "import cPickle as pickle\n",
    "import os\n",
    "from scipy.misc import imread\n",
    "# Inicializar semilla aleatoria\n",
    "np.random.seed(20)\n",
    "\n",
    "# Carga de un archivo de CIFAR\n",
    "def load_CIFAR_one(filename):\n",
    "    with open(filename, 'rb') as f:\n",
    "        datadict = pickle.load(f)\n",
    "        X = datadict['data']\n",
    "        Y = datadict['labels']\n",
    "        Y = np.array(Y)\n",
    "        return X, Y\n",
    "\n",
    "# Carga todos los archivos CIFAR y generar Training set, Testing set y Validation set\n",
    "def load_CIFAR10(PATH, n_files=6):\n",
    "    xs = []\n",
    "    ys = []\n",
    "    # Juntar toda la data de entrenamiento\n",
    "    for b in range(1, n_files):\n",
    "        f = os.path.join(PATH, 'data_batch_%d' % (b, ))\n",
    "        X, Y = load_CIFAR_one(f)\n",
    "        xs.append(X)\n",
    "        ys.append(Y)\n",
    "    Xtr = np.concatenate(xs)\n",
    "    Ytr = np.concatenate(ys)\n",
    "    del X, Y\n",
    "    # Obtener subconjunto para validacion a partir de data de entrenamiento\n",
    "    v_size = np.random.randint(1000, 5000)\n",
    "    indices = np.random.choice(np.arange(Xtr.shape[0]), v_size)\n",
    "    mask_tr = np.ones(Xtr.shape[0], dtype=bool)\n",
    "    mask_tr[indices] = False\n",
    "    mask_v = np.invert(mask_tr)\n",
    "    Xv = Xtr[mask_v]\n",
    "    Yv = Ytr[mask_v]\n",
    "    Xtr = Xtr[mask_tr]\n",
    "    Ytr = Ytr[mask_tr]\n",
    "    # Obtener data de prueba\n",
    "    Xte, Yte = load_CIFAR_one(os.path.join(PATH, 'test_batch'))\n",
    "    return Xtr, Ytr, Xte, Yte, Xv, Yv\n",
    "\n",
    "# Cargar desde carpeta local data\n",
    "Xtr, Ytr, Xte, Yte, Xv, Yv = load_CIFAR10(\"data\")"
   ]
  },
  {
   "cell_type": "markdown",
   "metadata": {},
   "source": [
    "b) Escalamiento y centrado de datos. Aparte de las ventajas mencionadas anteriormente, los resultados experimentales con datos no centrados y no escalados ofrecen resultados peores que si la data se normaliza."
   ]
  },
  {
   "cell_type": "code",
   "execution_count": 30,
   "metadata": {
    "collapsed": false
   },
   "outputs": [
    {
     "name": "stderr",
     "output_type": "stream",
     "text": [
      "/usr/lib64/python2.7/site-packages/sklearn/utils/validation.py:420: DataConversionWarning: Data with input dtype uint8 was converted to float64 by StandardScaler.\n",
      "  warnings.warn(msg, DataConversionWarning)\n",
      "/usr/lib64/python2.7/site-packages/sklearn/utils/validation.py:420: DataConversionWarning: Data with input dtype uint8 was converted to float64 by StandardScaler.\n",
      "  warnings.warn(msg, DataConversionWarning)\n",
      "/usr/lib64/python2.7/site-packages/sklearn/utils/validation.py:420: DataConversionWarning: Data with input dtype uint8 was converted to float64 by StandardScaler.\n",
      "  warnings.warn(msg, DataConversionWarning)\n",
      "/usr/lib64/python2.7/site-packages/sklearn/utils/validation.py:420: DataConversionWarning: Data with input dtype uint8 was converted to float64 by StandardScaler.\n",
      "  warnings.warn(msg, DataConversionWarning)\n",
      "/usr/lib64/python2.7/site-packages/sklearn/utils/validation.py:420: DataConversionWarning: Data with input dtype uint8 was converted to float64 by StandardScaler.\n",
      "  warnings.warn(msg, DataConversionWarning)\n",
      "/usr/lib64/python2.7/site-packages/sklearn/utils/validation.py:420: DataConversionWarning: Data with input dtype uint8 was converted to float64 by StandardScaler.\n",
      "  warnings.warn(msg, DataConversionWarning)\n"
     ]
    }
   ],
   "source": [
    "from sklearn.preprocessing import StandardScaler\n",
    "\n",
    "# Centrar dataset y escalar segun preferencia\n",
    "def preprocess(X, with_mean=True, with_std=True):\n",
    "    scaler = StandardScaler(with_mean, with_std).fit(X)\n",
    "    return scaler.transform(X)\n",
    "\n",
    "# Data solo centrada\n",
    "#Xtr_c = preprocess(Xtr, with_mean=True, with_std=False)\n",
    "# Data solo escalada\n",
    "#Xtr_s = preprocess(Xtr, with_mean=False, with_std=True)\n",
    "# Data centrada y escalada\n",
    "\n",
    "# Centrar y escalar datos de entrenamiento y validación\n",
    "Xtr_cs = preprocess(Xtr)\n",
    "Xv_cs = preprocess(Xv)\n",
    "Xte_cs = preprocess(Xte)"
   ]
  },
  {
   "cell_type": "markdown",
   "metadata": {
    "collapsed": true
   },
   "source": [
    "c) Creación de red neuronal para problema CIFAR. En primer lugar se adaptan las etiquetas a una representación manejable por la red."
   ]
  },
  {
   "cell_type": "code",
   "execution_count": 31,
   "metadata": {
    "collapsed": false
   },
   "outputs": [],
   "source": [
    "# Dimension de ejemplos, vectores de 3072 features (32x32x3 pixeles)\n",
    "input_dim = Xtr.shape[1]\n",
    "from keras.utils.np_utils import to_categorical\n",
    "Ytr_conv = to_categorical(Ytr,10)\n",
    "Yv_conv = to_categorical(Yv,10)\n",
    "Yte_conv = to_categorical(Yte,10)"
   ]
  },
  {
   "cell_type": "code",
   "execution_count": 36,
   "metadata": {
    "collapsed": false
   },
   "outputs": [],
   "source": [
    "# Modelo 1: Red simple de 1 capa\n",
    "MLPmodel = Sequential()\n",
    "MLPmodel.add(Dense(50, input_dim=input_dim, init='uniform'))\n",
    "MLPmodel.add(Activation('relu'))\n",
    "MLPmodel.add(Dense(10))\n",
    "MLPmodel.add(Activation('softmax'))\n",
    "sgd = SGD(lr=0.1, decay=1e-6, momentum=0.9, nesterov=False)\n",
    "MLPmodel.compile(loss='mse',\n",
    "              optimizer=sgd,\n",
    "              metrics=['accuracy'])"
   ]
  },
  {
   "cell_type": "code",
   "execution_count": 37,
   "metadata": {
    "collapsed": false
   },
   "outputs": [
    {
     "data": {
      "text/plain": [
       "<keras.callbacks.History at 0x7f003135f890>"
      ]
     },
     "execution_count": 37,
     "metadata": {},
     "output_type": "execute_result"
    }
   ],
   "source": [
    "MLPmodel.fit(Xtr_cs, Ytr_conv, nb_epoch=20, batch_size=16, verbose=0)"
   ]
  },
  {
   "cell_type": "code",
   "execution_count": 38,
   "metadata": {
    "collapsed": false
   },
   "outputs": [
    {
     "name": "stdout",
     "output_type": "stream",
     "text": [
      "Loss: 0.126673676492 Accuracy: 0.282148799627\n"
     ]
    }
   ],
   "source": [
    "score = MLPmodel.evaluate(Xv_cs, Yv_conv,verbose=0, batch_size=16)\n",
    "print \"Loss:\",score[0], \"Accuracy:\",score[1]"
   ]
  },
  {
   "cell_type": "code",
   "execution_count": 39,
   "metadata": {
    "collapsed": false
   },
   "outputs": [],
   "source": [
    "# Modelo 2\n",
    "# Combinacion de capas con activaciones tangente hiperbolica, momentum utilizando nesterov\n",
    "model2 = Sequential()\n",
    "model2.add(Dense(50, input_dim=input_dim, init='uniform'))\n",
    "model2.add(Activation('tanh'))\n",
    "model2.add(Dense(50, init='uniform'))\n",
    "model2.add(Activation('tanh'))\n",
    "model2.add(Dense(10, init='uniform'))\n",
    "model2.add(Activation('softmax'))\n",
    "sgd = SGD(lr=0.1, decay=1e-6, momentum=0.8, nesterov=True)\n",
    "model2.compile(loss='mse',\n",
    "              optimizer=sgd,\n",
    "              metrics=['accuracy'])"
   ]
  },
  {
   "cell_type": "code",
   "execution_count": 40,
   "metadata": {
    "collapsed": false
   },
   "outputs": [
    {
     "data": {
      "text/plain": [
       "<keras.callbacks.History at 0x7f003015b910>"
      ]
     },
     "execution_count": 40,
     "metadata": {},
     "output_type": "execute_result"
    }
   ],
   "source": [
    "model2.fit(Xtr_cs, Ytr_conv, nb_epoch=20, batch_size=32, verbose=0)"
   ]
  },
  {
   "cell_type": "code",
   "execution_count": 41,
   "metadata": {
    "collapsed": false
   },
   "outputs": [
    {
     "name": "stdout",
     "output_type": "stream",
     "text": [
      "Loss: 0.0710594502123 Accuracy: 0.445923460969\n"
     ]
    }
   ],
   "source": [
    "score = model2.evaluate(Xv_cs, Yv_conv, batch_size=32, verbose=0)\n",
    "print \"Loss:\",score[0], \"Accuracy:\",score[1]"
   ]
  },
  {
   "cell_type": "code",
   "execution_count": 65,
   "metadata": {
    "collapsed": false
   },
   "outputs": [],
   "source": [
    "# Modelo 3\n",
    "# Combinación anterior cambiando funciones tanh por sigmoidales y perdida entropia cruzada\n",
    "model3 = Sequential()\n",
    "model3.add(Dense(256, input_dim=input_dim, init='uniform'))\n",
    "model3.add(Activation('sigmoid'))\n",
    "model3.add(Dense(256, init='normal'))\n",
    "model3.add(Activation('sigmoid'))\n",
    "model3.add(Dense(10, init='normal'))\n",
    "model3.add(Activation('softmax'))\n",
    "sgd = SGD(lr=0.1, decay=1e-6, momentum=0.8, nesterov=True)\n",
    "model3.compile(loss='categorical_crossentropy',\n",
    "              optimizer=sgd,\n",
    "              metrics=['accuracy'])"
   ]
  },
  {
   "cell_type": "code",
   "execution_count": 66,
   "metadata": {
    "collapsed": false
   },
   "outputs": [
    {
     "data": {
      "text/plain": [
       "<keras.callbacks.History at 0x7f002ee8d910>"
      ]
     },
     "execution_count": 66,
     "metadata": {},
     "output_type": "execute_result"
    }
   ],
   "source": [
    "model3.fit(Xtr_cs, Ytr_conv, nb_epoch=20, batch_size=32, verbose=0)"
   ]
  },
  {
   "cell_type": "code",
   "execution_count": 64,
   "metadata": {
    "collapsed": false
   },
   "outputs": [
    {
     "name": "stdout",
     "output_type": "stream",
     "text": [
      "Loss: 1.65634136067 Accuracy: 0.497741858878\n"
     ]
    }
   ],
   "source": [
    "score = model3.evaluate(Xv_cs, Yv_conv, batch_size=32, verbose=0)\n",
    "print \"Loss:\",score[0], \"Accuracy:\",score[1]"
   ]
  },
  {
   "cell_type": "markdown",
   "metadata": {
    "collapsed": true
   },
   "source": [
    "(d) Extracción de features y experimentación."
   ]
  },
  {
   "cell_type": "code",
   "execution_count": 81,
   "metadata": {
    "collapsed": false
   },
   "outputs": [
    {
     "name": "stdout",
     "output_type": "stream",
     "text": [
      "(45713, 32, 32, 3)\n",
      "(4287, 32, 32, 3)\n",
      "(10000, 32, 32, 3)\n",
      "(45713, 3072)\n",
      "(45713, 154)\n",
      "(4287, 154)\n",
      "(10000, 154)\n"
     ]
    }
   ],
   "source": [
    "from top_level_features import hog_features\n",
    "from top_level_features import color_histogram_hsv\n",
    "from top_level_features import extract_features\n",
    "Xtr, Ytr, Xte, Yte, Xv, Yv = load_CIFAR10(\"data\")\n",
    "#features = extract_features(Xtr,[hog_features]) #extrae hog features\n",
    "#features = extract_features(Xtr,[color_histogram_hsv]) #extrae histogramas de color\n",
    "#extrae todo\n",
    "features = extract_features(Xtr,[hog_features, color_histogram_hsv])\n",
    "features_v = extract_features(Xv,[hog_features, color_histogram_hsv])\n",
    "features_te = extract_features(Xte,[hog_features, color_histogram_hsv])\n",
    "print Xtr.shape\n",
    "print features.shape\n",
    "print features_v.shape\n",
    "print features_te.shape"
   ]
  },
  {
   "cell_type": "code",
   "execution_count": 82,
   "metadata": {
    "collapsed": false
   },
   "outputs": [
    {
     "name": "stdout",
     "output_type": "stream",
     "text": [
      "[1.4739508387479077, 0.57429437843658215]\n",
      "[1.5654976190567016, 0.5474]\n"
     ]
    }
   ],
   "source": [
    "# Combinación anterior cambiando funciones tanh por sigmoidales y perdida entropia cruzada\n",
    "model3 = Sequential()\n",
    "model3.add(Dense(256, input_dim=features.shape[1], init='uniform'))\n",
    "model3.add(Activation('sigmoid'))\n",
    "model3.add(Dense(256, init='normal'))\n",
    "model3.add(Activation('sigmoid'))\n",
    "model3.add(Dense(10, init='normal'))\n",
    "model3.add(Activation('softmax'))\n",
    "sgd = SGD(lr=0.1, decay=1e-6, momentum=0.8, nesterov=True)\n",
    "model3.compile(loss='categorical_crossentropy',\n",
    "              optimizer=sgd,\n",
    "              metrics=['accuracy'])\n",
    "\n",
    "Ytr_conv = to_categorical(Ytr, 10)\n",
    "Yv_conv = to_categorical(Yv, 10)\n",
    "Yte_conv = to_categorical(Yte, 10)\n",
    "\n",
    "model3.fit(features, Ytr_conv, nb_epoch=20, batch_size=32, verbose=0)\n",
    "print model3.evaluate(features_v, Yv_conv, batch_size=32, verbose=0)\n",
    "print model3.evaluate(features_te, Yte_conv, batch_size=32, verbose=0)"
   ]
  },
  {
   "cell_type": "code",
   "execution_count": null,
   "metadata": {
    "collapsed": true
   },
   "outputs": [],
   "source": []
  }
 ],
 "metadata": {
  "kernelspec": {
   "display_name": "Python 2",
   "language": "python",
   "name": "python2"
  },
  "language_info": {
   "codemirror_mode": {
    "name": "ipython",
    "version": 2
   },
   "file_extension": ".py",
   "mimetype": "text/x-python",
   "name": "python",
   "nbconvert_exporter": "python",
   "pygments_lexer": "ipython2",
   "version": "2.7.11"
  }
 },
 "nbformat": 4,
 "nbformat_minor": 0
}
